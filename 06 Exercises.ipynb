{
 "cells": [
  {
   "cell_type": "markdown",
   "metadata": {
    "deletable": false,
    "editable": false,
    "nbgrader": {
     "cell_type": "markdown",
     "checksum": "8969a6543eebd1c7db89a71bb75e61ee",
     "grade": false,
     "grade_id": "cell-7b3313f25bceb7a2",
     "locked": true,
     "schema_version": 3,
     "solution": false
    }
   },
   "source": [
    "## Exercise 06.1 (selecting and passing data structures)\n",
    "\n",
    "The task in Exercise 04 for computing the area of a triangle involved a function with six arguments ($x$ and $y$ components of each vertex). With six arguments, the likelihood of a user passing arguments in the wrong order is high. \n",
    "\n",
    "Use an appropriate data structure, e.g. a `list`, `tuple`, `dict`, etc,  to develop a new version of the function with a simpler interface (the interface is the arguments that are passed to the function). Add appropriate checks inside your function to validate the input data."
   ]
  },
  {
   "cell_type": "code",
   "execution_count": 3,
   "metadata": {
    "deletable": false,
    "nbgrader": {
     "cell_type": "code",
     "checksum": "93c53f411edb621595bc865f6c79cbaf",
     "grade": false,
     "grade_id": "cell-50c4566d7bcbffaf",
     "locked": false,
     "schema_version": 3,
     "solution": true
    }
   },
   "outputs": [
    {
     "name": "stdout",
     "output_type": "stream",
     "text": [
      "Enter coordinates of first vertex \"x,y\": 0,0\n",
      "Enter coordinates of second vertex (x,y): 0,1\n",
      "Enter coordinates of third vertex (x,y): 1,0\n"
     ]
    },
    {
     "data": {
      "text/plain": [
       "0.5"
      ]
     },
     "execution_count": 3,
     "metadata": {},
     "output_type": "execute_result"
    }
   ],
   "source": [
    "# YOUR CODE HERE\n",
    "def area(x0,y0,x1,y1,x2,y2):\n",
    "    A = abs((x0*(y1-y2)+x1*(y2-y0)+x2*(y0-y1))/2)\n",
    "    return A\n",
    "\n",
    "def check(co):\n",
    "    if len(co)!=2:\n",
    "        print('bad input')\n",
    "        print(len(co))\n",
    "        return True\n",
    "\n",
    "\n",
    "co1 = input('Enter coordinates of first vertex, e.g \"x,y\": ')\n",
    "co1 = co1.split(\",\")\n",
    "check(co1)\n",
    "    \n",
    "co2 = input('Enter coordinates of second vertex, e.g \"x,y\": ')\n",
    "co2 = co2.split(\",\")\n",
    "check(co2)\n",
    "\n",
    "co3 = input('Enter coordinates of third vertex, e.g \"x,y\": ')\n",
    "co3 = co3.split(\",\")\n",
    "check(co3)\n",
    "\n",
    "area(int(co1[0]),int(co1[1]),int(co2[0]),int(co2[1]),int(co3[0]),int(co3[1]))"
   ]
  },
  {
   "cell_type": "markdown",
   "metadata": {
    "deletable": false,
    "editable": false,
    "nbgrader": {
     "cell_type": "markdown",
     "checksum": "538793e1776653182d193a7700588461",
     "grade": false,
     "grade_id": "cell-5065052af9989fdf",
     "locked": true,
     "schema_version": 3,
     "solution": false
    }
   },
   "source": [
    "## Exercise 06.2 (selecting data structures)\n",
    "\n",
    "For a simple (non-intersecting) polygon with $n$ vertices, $(x_0, y_0)$, $(x_1, y_1)$, . . , $(x_{n-1}, y_{n-1})$, the area $A$ is given by\n",
    "$$\n",
    "A = \\left| \\frac{1}{2} \\sum_{i=0}^{n-1} \\left(x_{i} y _{i+1} - x_{i+1} y_{i} \\right) \\right|\n",
    "$$\n",
    "and where $(x_n, y_n) = (x_0, y_0)$. The vertices should be ordered as you move around the polygon.\n",
    "\n",
    "Write a function that computes the area of a simple polygon with an arbitrary number of vertices. Test your function for some simple shapes. Pay careful attention to the range of any loops."
   ]
  },
  {
   "cell_type": "code",
   "execution_count": 9,
   "metadata": {
    "deletable": false,
    "nbgrader": {
     "cell_type": "code",
     "checksum": "3c6fe94718310475d875ec60534199eb",
     "grade": false,
     "grade_id": "cell-4b5a619405787746",
     "locked": false,
     "schema_version": 3,
     "solution": true
    }
   },
   "outputs": [
    {
     "data": {
      "text/plain": [
       "0.5"
      ]
     },
     "execution_count": 9,
     "metadata": {},
     "output_type": "execute_result"
    }
   ],
   "source": [
    "# YOUR CODE HERE\n",
    "def area(my_list):\n",
    "    area_add = 0\n",
    "    for i in range(len(my_list)):\n",
    "        if i == int(len(my_list)) - 1:\n",
    "            area_add+= my_list[i][0]*my_list[0][1]-my_list[0][0]*my_list[i][1]\n",
    "        \n",
    "        else:\n",
    "            area_add+= my_list[i][0]*my_list[i+1][1]-my_list[i+1][0]*my_list[i][1]\n",
    "    return abs(area_add/2)\n",
    "\n",
    "polygon = [(0,0),(1,0),(0,1)]\n",
    "area(polygon)"
   ]
  },
  {
   "cell_type": "markdown",
   "metadata": {
    "deletable": false,
    "editable": false,
    "nbgrader": {
     "cell_type": "markdown",
     "checksum": "31a71dcd54f996f2f798df30114b9faf",
     "grade": false,
     "grade_id": "cell-ced99a38c7bbe7a0",
     "locked": true,
     "schema_version": 3,
     "solution": false
    }
   },
   "source": [
    "## Exercise 06.3 (indexing)\n",
    "\n",
    "Write a function that uses list indexing to add two vectors of arbitrary length, and returns the new vector. Include a check that the vector sizes match, and print a warning message if there is a size mismatch. The more error information you provide, the easier it would be for someone using your function to debug their code.\n",
    "\n",
    "Add some tests of your code.\n",
    "\n",
    "#### Hint: You can create a list of zeros of length `n` by\n",
    "\n",
    "    z = [0]*n\n",
    "    \n",
    "#### Optional (advanced) \n",
    "\n",
    "Try writing a one-line version of this operation using list comprehension and the built-in function [`zip`](https://docs.python.org/3/library/functions.html#zip)."
   ]
  },
  {
   "cell_type": "code",
   "execution_count": 14,
   "metadata": {
    "deletable": false,
    "nbgrader": {
     "cell_type": "code",
     "checksum": "66ea7d534bb1cbabf82dbcbb69e4dd02",
     "grade": false,
     "grade_id": "cell-47daca03f7a96b62",
     "locked": false,
     "schema_version": 3,
     "solution": true
    }
   },
   "outputs": [
    {
     "name": "stdout",
     "output_type": "stream",
     "text": [
      "<class 'int'>\n"
     ]
    }
   ],
   "source": [
    "def sum_vector(x, y):\n",
    "    \"Return sum of two vectors\"\n",
    "    # YOUR CODE HERE\n",
    "    if len(x)!=len(y):\n",
    "        print('vectors not same amount of dimensions')\n",
    "        return\n",
    "    \n",
    "    my_list =[]\n",
    "    for i in range(len(x)):\n",
    "        my_list.append(x[i]+y[i])\n",
    "    return my_list\n",
    "\n",
    "for i in range(1):\n",
    "    print(type(i))\n"
   ]
  },
  {
   "cell_type": "code",
   "execution_count": 13,
   "metadata": {
    "deletable": false,
    "editable": false,
    "nbgrader": {
     "cell_type": "code",
     "checksum": "9b3d802cdb7440be47952667335f5cc7",
     "grade": true,
     "grade_id": "cell-95f5819810d2b2c7",
     "locked": true,
     "points": 0,
     "schema_version": 3,
     "solution": false
    }
   },
   "outputs": [],
   "source": [
    "a = [0, 4.3, -5, 7]\n",
    "b = [-2, 7, -15, 1]\n",
    "c = sum_vector(a, b)\n",
    "assert c == [-2, 11.3, -20, 8]"
   ]
  },
  {
   "cell_type": "markdown",
   "metadata": {},
   "source": [
    "### Extension: list comprehension"
   ]
  },
  {
   "cell_type": "code",
   "execution_count": null,
   "metadata": {
    "deletable": false,
    "nbgrader": {
     "cell_type": "code",
     "checksum": "3ace0d343b7871c30f7776e20669bf3e",
     "grade": true,
     "grade_id": "cell-c182b3f0d8952692",
     "locked": false,
     "points": 0,
     "schema_version": 3,
     "solution": true
    }
   },
   "outputs": [],
   "source": [
    "# YOUR CODE HERE\n",
    "raise NotImplementedError()"
   ]
  },
  {
   "cell_type": "markdown",
   "metadata": {},
   "source": [
    "## Exercise 06.4 (dictionaries)\n",
    "\n",
    "Create a dictionary that maps college names (the key) to college abbreviations for at least 5 colleges\n",
    "(you can find abbreviations at https://en.wikipedia.org/wiki/Colleges_of_the_University_of_Cambridge#Colleges).\n",
    "From the dictionary, produce and print\n",
    "\n",
    "1. A dictionary from college abbreviation to name; and\n",
    "1. A list of college abbreviations sorted into alphabetical order.\n",
    "\n",
    "*Optional extension:* Create a dictionary that maps college names (the key) to dictionaries of:\n",
    "\n",
    "- College abbreviation\n",
    "- Year of foundation \n",
    "- Total number students\n",
    " \n",
    "for at least 5 colleges. Take the data from https://en.wikipedia.org/wiki/Colleges_of_the_University_of_Cambridge#Colleges. Using this dictionary, \n",
    "\n",
    "1. Find the college with the greatest number of students and print the abbreviation; and \n",
    "2. Find the oldest college, and print the number of students and the abbreviation for this college."
   ]
  },
  {
   "cell_type": "code",
   "execution_count": 1,
   "metadata": {
    "deletable": false,
    "nbgrader": {
     "cell_type": "code",
     "checksum": "892cc4fd98d0f8cc393eff925b5d6b13",
     "grade": false,
     "grade_id": "cell-bc271dc3885e19c5",
     "locked": false,
     "schema_version": 3,
     "solution": true
    }
   },
   "outputs": [
    {
     "name": "stdout",
     "output_type": "stream",
     "text": [
      "The abbreviation of Christ's is CHR\n",
      "The abbreviation of Churchill is CHU\n",
      "The abbreviation of Clare is CL\n",
      "The abbreviation of St John's is JN\n",
      "The abbreviation of Clare Hall is CLH\n",
      "{'CHR': \"Christ's\", 'CHU': 'Churchill', 'CL': 'Clare', 'JN': \"St John's\", 'CLH': 'Clare Hall'}\n",
      "['CHR', 'CHU', 'CL', 'CLH', 'JN']\n"
     ]
    }
   ],
   "source": [
    "# YOUR CODE HERE\n",
    "my_dict = {\"Christ's\" : \"CHR\", \"Churchill\":\"CHU\", \"Clare\":\"CL\",\"St John's\":\"JN\",\"Clare Hall\":\"CLH\" }\n",
    "my_list = []\n",
    "reverse_dict = dict()\n",
    "for key in my_dict:\n",
    "    print(f\"The abbreviation of {key} is {my_dict[key]}\")\n",
    "    my_list.append(my_dict[key])\n",
    "    reverse_dict[my_dict[key]] = key\n",
    "    \n",
    "print(reverse_dict)\n",
    "print(sorted(my_list))"
   ]
  },
  {
   "cell_type": "markdown",
   "metadata": {
    "deletable": false,
    "editable": false,
    "nbgrader": {
     "cell_type": "markdown",
     "checksum": "ee373920fe2377cf230967db220ba75a",
     "grade": false,
     "grade_id": "cell-45d2551a524193b0",
     "locked": true,
     "schema_version": 3,
     "solution": false
    }
   },
   "source": [
    "#### Optional extension"
   ]
  },
  {
   "cell_type": "code",
   "execution_count": null,
   "metadata": {
    "deletable": false,
    "nbgrader": {
     "cell_type": "code",
     "checksum": "683b2dc107d00c494b6c163c5ab6cfa8",
     "grade": false,
     "grade_id": "cell-7040c4053c72ce09",
     "locked": false,
     "schema_version": 3,
     "solution": true
    }
   },
   "outputs": [],
   "source": [
    "# YOUR CODE HERE\n",
    "raise NotImplementedError()"
   ]
  }
 ],
 "metadata": {
  "kernelspec": {
   "display_name": "Python 3",
   "language": "python",
   "name": "python3"
  },
  "language_info": {
   "codemirror_mode": {
    "name": "ipython",
    "version": 3
   },
   "file_extension": ".py",
   "mimetype": "text/x-python",
   "name": "python",
   "nbconvert_exporter": "python",
   "pygments_lexer": "ipython3",
   "version": "3.8.5"
  }
 },
 "nbformat": 4,
 "nbformat_minor": 4
}
